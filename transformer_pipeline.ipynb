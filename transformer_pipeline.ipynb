{
 "cells": [
  {
   "cell_type": "markdown",
   "metadata": {},
   "source": [
    "# Transformer"
   ]
  },
  {
   "cell_type": "markdown",
   "metadata": {},
   "source": [
    "Disini kita akan melakukan transformasi token data menjadi bentuk vektor dengan word-embedding techniques (Tf-IDF, Word2Vec, GloVe, FastText).\n",
    "\n",
    "lalu kita akan menyimpan hasil transformer menjadi data ready to predict"
   ]
  },
  {
   "cell_type": "markdown",
   "metadata": {},
   "source": [
    "## Load data"
   ]
  }
 ],
 "metadata": {
  "language_info": {
   "name": "python"
  },
  "orig_nbformat": 4
 },
 "nbformat": 4,
 "nbformat_minor": 2
}
